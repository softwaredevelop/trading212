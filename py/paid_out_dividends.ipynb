{
 "cells": [
  {
   "cell_type": "code",
   "execution_count": 1,
   "metadata": {},
   "outputs": [],
   "source": [
    "import json\n",
    "import os\n",
    "\n",
    "import requests\n",
    "from dotenv import load_dotenv\n",
    "\n",
    "load_dotenv()\n",
    "\n",
    "query = {\"limit\": \"10\"}\n",
    "response = requests.get(\n",
    "    f\"https://{os.environ.get('TRADING212_HOST', 'demo.trading212.com')}/api/v0/history/dividends\",\n",
    "    headers={\"Authorization\": os.environ.get(\"TRADING212_API_KEY\")},\n",
    "    params=query\n",
    ")\n",
    "\n",
    "if response.status_code == 200:\n",
    "    data = response.json()\n",
    "    with open(\"paid_out_dividends_data.json\", \"w\") as file:\n",
    "        json.dump(data, file)\n",
    "else:\n",
    "    print(f\"Error: {response.status_code}\")"
   ]
  },
  {
   "cell_type": "code",
   "execution_count": null,
   "metadata": {},
   "outputs": [],
   "source": [
    "import pandas as pd\n",
    "\n",
    "data = pd.read_json(\"paid_out_dividends_data.json\")\n",
    "dataframe = pd.DataFrame(data)\n",
    "\n",
    "print(dataframe.head())"
   ]
  }
 ],
 "metadata": {
  "kernelspec": {
   "display_name": "trading212",
   "language": "python",
   "name": "python3"
  },
  "language_info": {
   "codemirror_mode": {
    "name": "ipython",
    "version": 3
   },
   "file_extension": ".py",
   "mimetype": "text/x-python",
   "name": "python",
   "nbconvert_exporter": "python",
   "pygments_lexer": "ipython3",
   "version": "3.12.2"
  }
 },
 "nbformat": 4,
 "nbformat_minor": 2
}
