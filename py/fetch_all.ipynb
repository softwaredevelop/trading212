{
 "cells": [
  {
   "cell_type": "code",
   "execution_count": null,
   "metadata": {},
   "outputs": [],
   "source": [
    "import json\n",
    "import os\n",
    "import sys\n",
    "\n",
    "import requests\n",
    "from dotenv import load_dotenv\n",
    "\n",
    "load_dotenv()\n",
    "\n",
    "\n",
    "def fetch_and_save_data(endpoint: str, output_file: str):\n",
    "    \"\"\"\n",
    "    Fetches data from a specified API endpoint and saves it to a JSON file.\n",
    "\n",
    "    :param endpoint: The API endpoint to fetch data from (e.g., \"api/v0/equity/metadata/instruments\").\n",
    "    :param output_file: The name of the file to save the data (e.g., \"instrument_list_data.json\").\n",
    "    \"\"\"\n",
    "    try:\n",
    "        # Build the full URL\n",
    "        base_url = os.environ.get(\"TRADING212_HOST\", \"demo.trading212.com\")\n",
    "\n",
    "        if not os.environ.get(\"TRADING212_API_KEY\"):\n",
    "            print(\"Error: Missing TRADING212_API_KEY environment variable.\")\n",
    "            sys.exit(1)\n",
    "\n",
    "        url = f\"https://{base_url}/{endpoint}\"\n",
    "        response = requests.get(\n",
    "            url,\n",
    "            headers={\"Authorization\": os.environ.get(\"TRADING212_API_KEY\")},\n",
    "            timeout=10,\n",
    "        )\n",
    "        response.raise_for_status()\n",
    "\n",
    "        # Parse JSON response\n",
    "        data = response.json()\n",
    "\n",
    "        # Save to file\n",
    "        with open(output_file, \"w\") as file:\n",
    "            json.dump(data, file)\n",
    "            print(f\"Data successfully written to {output_file}.\")\n",
    "\n",
    "    except requests.exceptions.RequestException as e:\n",
    "        print(f\"Error during API request: {e}\")\n",
    "        sys.exit(1)\n",
    "    except IOError as e:\n",
    "        print(f\"Error writing to file: {e}\")\n",
    "        sys.exit(1)\n",
    "\n",
    "\n",
    "fetch_and_save_data(\"api/v0/equity/orders\", \"fetch_all_data.json\")"
   ]
  },
  {
   "cell_type": "code",
   "execution_count": null,
   "metadata": {},
   "outputs": [],
   "source": [
    "import pandas as pd\n",
    "\n",
    "data = pd.read_json(\"fetch_all_data.json\")\n",
    "dataframe = pd.DataFrame(data)\n",
    "\n",
    "print(dataframe.head())"
   ]
  }
 ],
 "metadata": {
  "kernelspec": {
   "display_name": "trading212",
   "language": "python",
   "name": "python3"
  },
  "language_info": {
   "codemirror_mode": {
    "name": "ipython",
    "version": 3
   },
   "file_extension": ".py",
   "mimetype": "text/x-python",
   "name": "python",
   "nbconvert_exporter": "python",
   "pygments_lexer": "ipython3",
   "version": "3.12.2"
  }
 },
 "nbformat": 4,
 "nbformat_minor": 2
}
